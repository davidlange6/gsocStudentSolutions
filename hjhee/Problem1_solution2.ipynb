{
 "cells": [
  {
   "cell_type": "code",
   "execution_count": 31,
   "metadata": {},
   "outputs": [],
   "source": [
    ">>> import oamap.source.root\n",
    ">>> import uproot\n",
    ">>> events = uproot.open(\"http://scikit-hep.org/uproot/examples/HZZ.root\")[\"events\"].oamap()\n",
    "events.schema.content.rename(\"NElectron\", \"electrons\")\n",
    "events.schema.content[\"electrons\"].content.rename(\"Electron_Px\", \"px\")\n",
    "events.schema.content[\"electrons\"].content.rename(\"Electron_Py\", \"py\")\n",
    "events.schema.content[\"electrons\"].content.rename(\"Electron_Pz\", \"pz\")\n",
    "events.schema.content[\"electrons\"].content.rename(\"Electron_E\", \"energy\")\n",
    "events.schema.content[\"electrons\"].content.rename(\"Electron_Iso\", \"isolation\")\n",
    "events.schema.content[\"electrons\"].content.rename(\"Electron_Charge\", \"charge\")\n",
    "events.schema.content.rename(\"NMuon\", \"muons\")\n",
    "events.schema.content[\"muons\"].content.rename(\"Muon_Px\", \"px\")\n",
    "events.schema.content[\"muons\"].content.rename(\"Muon_Py\", \"py\")\n",
    "events.schema.content[\"muons\"].content.rename(\"Muon_Pz\", \"pz\")\n",
    "events.schema.content[\"muons\"].content.rename(\"Muon_E\", \"energy\")\n",
    "events.schema.content[\"muons\"].content.rename(\"Muon_Iso\", \"isolation\")\n",
    "events.schema.content[\"muons\"].content.rename(\"Muon_Charge\", \"charge\")\n",
    "events.schema.content.rename(\"NPhoton\", \"photons\")\n",
    "events.schema.content[\"photons\"].content.rename(\"Photon_Px\", \"px\")\n",
    "events.schema.content[\"photons\"].content.rename(\"Photon_Py\", \"py\")\n",
    "events.schema.content[\"photons\"].content.rename(\"Photon_Pz\", \"pz\")\n",
    "events.schema.content[\"photons\"].content.rename(\"Photon_E\", \"energy\")\n",
    "events.schema.content[\"photons\"].content.rename(\"Photon_Iso\", \"isolation\")\n",
    "events.schema.content.rename(\"NJet\", \"jets\")\n",
    "events.schema.content[\"jets\"].content.rename(\"Jet_Px\", \"px\")\n",
    "events.schema.content[\"jets\"].content.rename(\"Jet_Py\", \"py\")\n",
    "events.schema.content[\"jets\"].content.rename(\"Jet_Pz\", \"pz\")\n",
    "events.schema.content[\"jets\"].content.rename(\"Jet_E\", \"energy\")\n",
    "events.schema.content[\"jets\"].content.rename(\"Jet_ID\", \"id\")\n",
    "events.schema.content[\"jets\"].content.rename(\"Jet_btag\", \"btag\")\n",
    "events.regenerate()\n",
    ">>> import functional\n",
    "from math import *\n",
    "def mass(*particles):\n",
    "    energy = particles.map(lambda particle: particle.energy).sum\n",
    "    px = particles.map(lambda particle: particle.px).sum\n",
    "    py = particles.map(lambda particle: particle.py).sum\n",
    "    pz = particles.map(lambda particle: particle.pz).sum\n",
    "    return sqrt(energy**2 - px**2 - py**2 - pz**2)"
   ]
  },
  {
   "cell_type": "markdown",
   "metadata": {},
   "source": [
    "I've found that it would be simpler by first calculating Z mass and then use `pairs` to calculate Higgs mass:"
   ]
  },
  {
   "cell_type": "code",
   "execution_count": 57,
   "metadata": {},
   "outputs": [
    {
     "data": {
      "text/latex": [
       "$$m=\\sqrt{energy^{2}-p^{2}_{x}-p^{2}_{y}-p^{2}_{z}}$$"
      ],
      "text/plain": [
       "<IPython.core.display.Math object>"
      ]
     },
     "metadata": {},
     "output_type": "display_data"
    },
    {
     "data": {
      "text/latex": [
       "$$m_{H}=\\sqrt{m^2_{z_{1}}+m^2_{z_{2}}}=\\sqrt{energy^{2}_1-p^{2}_{x1}-p^{2}_{y1}-p^{2}_{z1}+energy^{2}_2-p^{2}_{x2}-p^{2}_{y2}-p^{2}_{z2}} \\\\ \\ = \\sqrt{(energy^{2}_1+energy^{2}_2)-(p^{2}_{x1}+p^{2}_{y1}+p^{2}_{z1}+p^{2}_{x2}+p^{2}_{y2}+p^{2}_{z2})}$$"
      ],
      "text/plain": [
       "<IPython.core.display.Math object>"
      ]
     },
     "metadata": {},
     "output_type": "display_data"
    }
   ],
   "source": [
    "from IPython.display import display, Math, Latex\n",
    "\n",
    "display(Math(r'm=\\sqrt{energy^{2}-p^{2}_{x}-p^{2}_{y}-p^{2}_{z}}'))\n",
    "display(Math(r'm_{H}=\\sqrt{m^2_{z_{1}}+m^2_{z_{2}}}=\\sqrt{energy^{2}_1-p^{2}_{x1}-p^{2}_{y1}-p^{2}_{z1}+energy^{2}_2-p^{2}_{x2}-p^{2}_{y2}-p^{2}_{z2}} \\\\ \\\\\n",
    " = \\sqrt{(energy^{2}_1+energy^{2}_2)-(p^{2}_{x1}+p^{2}_{y1}+p^{2}_{z1}+p^{2}_{x2}+p^{2}_{y2}+p^{2}_{z2})}'))"
   ]
  },
  {
   "cell_type": "code",
   "execution_count": 94,
   "metadata": {
    "scrolled": true
   },
   "outputs": [
    {
     "data": {
      "text/plain": [
       "array([127.17852376, 155.79950464, 107.90775967, 142.96336034,\n",
       "       153.41439012, 123.86085218, 136.83160538, 128.98982498,\n",
       "       129.60416187,  96.18799696, 112.39888027, 102.70830056,\n",
       "       103.47878445,  66.62615023,  48.52350577,  50.13376546,\n",
       "        75.73577846,  76.77741833,  61.72729286, 142.29445058,\n",
       "       106.55710517, 123.76143203,  94.02605973,  98.88924908,\n",
       "       119.9949461 , 135.50373606, 109.01958693, 113.24069062,\n",
       "        97.30348649,  54.69896098,  62.69098826,  83.39335542,\n",
       "        88.84050543,  37.63832161, 117.34575125,  98.62094603,\n",
       "        77.92545522, 125.32304705, 141.40674789,  97.85562869,\n",
       "       118.14349787,  90.0245886 ,  95.35909069, 123.98768576,\n",
       "       141.41593695, 136.0850061 , 119.00519265, 134.04816467,\n",
       "       126.51567219, 120.52749467, 100.84633837, 118.22291883,\n",
       "       138.392189  , 121.63677474, 136.38980733, 115.39569589,\n",
       "       130.85427469, 112.98649564, 140.6859679 , 130.25991725,\n",
       "       142.1552682 ,  95.94705145, 105.25302263, 104.69748049,\n",
       "        63.21194574, 117.22682855, 104.32576871,  83.63762603,\n",
       "       131.55991286, 104.48619165,  99.12642446, 117.35527846,\n",
       "       128.23283657, 104.76099267,  99.41604179, 117.60001157,\n",
       "       128.45684767,  59.10078629,  86.25031187, 100.55105812,\n",
       "        79.67308251,  94.96946388, 113.86576494, 127.73450369,\n",
       "       128.18005726, 120.75022415,  98.58286998, 101.06562961,\n",
       "       135.40229717, 112.65516114, 119.43049137, 129.05364782,\n",
       "       135.8978342 , 121.08019853, 128.54207685,  98.57503869,\n",
       "       130.70655797, 102.9423871 , 167.65647638, 119.6145818 ,\n",
       "        95.26789567,  99.31478621, 165.45387807, 116.50725246,\n",
       "        91.33599314, 144.52652537,  84.18355327,  43.07196779,\n",
       "       156.83886524, 139.16448332,  74.60366965, 148.36907896,\n",
       "       127.41751568, 104.04196714, 102.21462472, 223.40388257,\n",
       "       207.45128162,  92.50649366, 127.24033342, 160.14923222,\n",
       "       156.56205799, 124.54695952,  95.65336826,  95.73181462,\n",
       "        32.02711947, 232.7220327 , 246.81003122, 115.19309113,\n",
       "       195.24588974, 181.42414913, 149.90286586, 125.40768514,\n",
       "       376.03691967, 294.45300849, 266.75653513, 145.85557791,\n",
       "       112.10755264, 128.0199836 , 116.53863396, 146.66514965,\n",
       "       146.80871098, 123.45271596, 134.58264263,  91.46780573,\n",
       "        91.69782432,  45.78500236,  70.48532515, 127.81981028,\n",
       "       100.12831446, 113.5675745 , 100.33848144, 113.75291415,\n",
       "        81.40946465, 148.58027161, 168.6290518 , 109.18695946,\n",
       "       130.10799485, 127.3791047 , 257.59053246, 253.03344512,\n",
       "       123.97361676, 129.41188046,  98.82585303,  66.85451148,\n",
       "        98.08084483, 184.80312523, 108.33201983, 195.18403507,\n",
       "       100.22829264,  68.77249326, 106.52467959, 132.48754158,\n",
       "       141.97246685, 122.33945   , 128.08074666, 186.94810168,\n",
       "       176.12790124, 124.18083019, 159.52603407, 133.24221172,\n",
       "       223.19561034, 184.9760024 , 210.34209856, 191.17722109,\n",
       "       174.03323343, 200.78656155, 180.61056097, 157.21031865,\n",
       "       130.46078233, 164.46182745, 107.03522393,  92.59489563,\n",
       "        61.43867733, 104.97837511, 115.06809594, 115.339457  ,\n",
       "        99.79057026,  80.69965809, 123.72170125, 123.97412229,\n",
       "       109.65651175,  92.62195998, 132.62650738, 119.35140565,\n",
       "       103.91840517, 119.61304975, 104.21880143,  86.69790161,\n",
       "       126.11296192, 135.79562841, 255.57519439, 259.90213468,\n",
       "       132.53195688, 110.93951838, 116.16095422,  95.05814763,\n",
       "       177.02347597, 225.34301203, 258.61365352, 129.60316187,\n",
       "       128.69107686, 128.88102925,  91.02433057,  93.47120972,\n",
       "       129.17138421,  55.53292785,  59.16266436,  53.71182373,\n",
       "        87.33856258, 130.10951037,  99.82011096, 144.85249389,\n",
       "       108.3937215 , 127.7964745 , 173.40339316, 129.75448182,\n",
       "       108.78232371,  99.67616519,  53.96951015, 170.38235613,\n",
       "       134.21662274, 130.32152785, 263.78077789, 262.81010684,\n",
       "       121.12703381, 111.13726885, 129.70817908, 108.7465844 ,\n",
       "       120.07988868, 168.78806335, 156.91611163, 115.3724552 ,\n",
       "       101.80295779, 129.53458263,  98.71343364, 104.49386767,\n",
       "        92.58064536,  63.02996767, 127.68300464])"
      ]
     },
     "execution_count": 94,
     "metadata": {},
     "output_type": "execute_result"
    }
   ],
   "source": [
    "es = events\n",
    "masses = (es\n",
    "          .lazy\n",
    "          .map(lambda event: \n",
    "               [event.electrons.pairs(mass), event.muons.pairs(mass)]) # need only electrons and muons\n",
    "          .map(lambda event: event[0]+event[1]) # combine two lists of Z mass into one\n",
    "          .filter(lambda event: event.size >= 2) # filter events that has less than two Z\n",
    "          .map(lambda event: event.pairs(lambda x, y: sqrt(x*x+y*y))) # 2Z->H\n",
    "          .flatten # pretty result\n",
    "         )\n",
    "res = np.array(masses.collect)\n",
    "res"
   ]
  },
  {
   "cell_type": "code",
   "execution_count": 71,
   "metadata": {},
   "outputs": [
    {
     "data": {
      "text/html": [
       "<script>requirejs.config({paths: { 'plotly': ['https://cdn.plot.ly/plotly-latest.min']},});if(!window.Plotly) {{require(['plotly'],function(plotly) {window.Plotly=plotly;});}}</script>"
      ],
      "text/vnd.plotly.v1+html": [
       "<script>requirejs.config({paths: { 'plotly': ['https://cdn.plot.ly/plotly-latest.min']},});if(!window.Plotly) {{require(['plotly'],function(plotly) {window.Plotly=plotly;});}}</script>"
      ]
     },
     "metadata": {},
     "output_type": "display_data"
    }
   ],
   "source": [
    "import plotly\n",
    "plotly.tools.set_credentials_file(username='hjhee', api_key='7M7ZO15hQSc0sy01adVG')\n",
    "plotly.offline.init_notebook_mode(connected=True)"
   ]
  },
  {
   "cell_type": "code",
   "execution_count": 99,
   "metadata": {
    "scrolled": true
   },
   "outputs": [
    {
     "data": {
      "text/html": [
       "<iframe id=\"igraph\" scrolling=\"no\" style=\"border:none;\" seamless=\"seamless\" src=\"https://plot.ly/~hjhee/37.embed\" height=\"525px\" width=\"100%\"></iframe>"
      ],
      "text/plain": [
       "<plotly.tools.PlotlyDisplay object>"
      ]
     },
     "execution_count": 99,
     "metadata": {},
     "output_type": "execute_result"
    }
   ],
   "source": [
    "import plotly.plotly as py\n",
    "import plotly.graph_objs as go\n",
    "\n",
    "import numpy as np\n",
    "\n",
    "\n",
    "data = [go.Histogram(x=res)]\n",
    "py.iplot(data, filename='basic histogram')"
   ]
  },
  {
   "cell_type": "markdown",
   "metadata": {},
   "source": [
    "# 下面的东西都没有用处，只是试验"
   ]
  },
  {
   "cell_type": "code",
   "execution_count": 13,
   "metadata": {},
   "outputs": [
    {
     "data": {
      "text/plain": [
       "[[], [], [], [], [179.5715950451616], [], [], [], [], []]"
      ]
     },
     "execution_count": 13,
     "metadata": {},
     "output_type": "execute_result"
    }
   ],
   "source": [
    "masses.take(10)"
   ]
  },
  {
   "cell_type": "code",
   "execution_count": 22,
   "metadata": {},
   "outputs": [],
   "source": [
    "e = events.map(lambda event: [event.electrons.pairs(mass), event.muons.pairs(mass)])"
   ]
  },
  {
   "cell_type": "code",
   "execution_count": 25,
   "metadata": {},
   "outputs": [
    {
     "name": "stdout",
     "output_type": "stream",
     "text": [
      "[[[], [90.22779776988638]], [[], []], [[], [74.74654928040661]], [[], [89.75736375665977]], [[84.71637776101005], [94.85521728415152]], [[], [92.11672152709482]], [[], [53.36427793158392]], [[], []], [[], [89.84969494859244]], [[], [96.03694205062722]], [[], [86.80058490641416]], [[], [87.29730141854886]], [[], []], [[], []], [[], [94.1401344991302]], [[], [99.82829548826258]], [[], [89.35045512899516]], [[], []], [[], [93.01657608591354]], [[], [87.97456406526169, 128.58445366515267, 62.48648393717207]], [[], [94.41155889760824]], [[], [93.16613921673573]], [[], [89.05260696344838]], [[], []], [[], []], [[], [95.24223125872672]], [[], []], [[], []], [[], [91.1353537369359]], [[], [131.6289837509788]], [[], [84.15809133930381]], [[], []], [[], [121.70734373587467, 93.39859514897753, 22.996373270352922, 62.53167765812187, 42.72818072650716, 44.548414733706565]], [[], []], [[], [29.48155781970828]], [[], []], [[], []], [[], []], [[], [85.6893720090954]], [[], [94.39039849164844]], [[], [92.17629058864074]], [[], [90.83335188133685]], [[], []], [[], []], [[], []], [[], [84.97899749086838]], [[], []], [[], [73.10379762338002]], [[], [98.58303266123528]], [[], [94.21043301661783]], [[], []], [[], [87.82125627289902]], [[], []], [[], [83.74543604301972]], [[], []], [[], []], [[], []], [[], [88.24547163560324]], [[], [89.78230306443301]], [[], [90.82769327825987]], [[], []], [[], [104.83045241665121]], [[], [92.2173745787749]], [[], []], [[], [83.74228864027768]], [[], [90.47529505648548]], [[], []], [[], [87.21292251216]], [[], [85.96696855012343]], [[], []], [[], [92.74518919627343, 107.91682234922389, 52.46662314216714, 81.94645775909692, 15.467054936981627, 34.31345895598342]], [[], []], [[], [91.44368657064676]], [[], []], [[], []], [[], [90.03258576594307]], [[], [91.52615869443355]], [[], []], [[], []], [[], [94.07814544534953]], [[], [91.62112701759015]], [[], []], [[], [91.9124195359188]], [[], [90.76310384269505]], [[], [94.51892685552717]], [[], []], [[], []], [[], []], [[], [38.901375489119076]], [[], [92.0439494505834]], [[], [97.91948543522014]], [[], [89.42322123165098]], [[], []], [[], []], [[], []], [[], [90.51819594401387]], [[], []], [[], []], [[], []], [[], [107.26384921023508]]]\n"
     ]
    },
    {
     "data": {
      "text/plain": [
       "[[],\n",
       " [],\n",
       " [],\n",
       " [],\n",
       " [179.5715950451616],\n",
       " [],\n",
       " [],\n",
       " [],\n",
       " [],\n",
       " [],\n",
       " [],\n",
       " [],\n",
       " [],\n",
       " [],\n",
       " [],\n",
       " [],\n",
       " [],\n",
       " [],\n",
       " [],\n",
       " [],\n",
       " [],\n",
       " [],\n",
       " [],\n",
       " [],\n",
       " [],\n",
       " [],\n",
       " [],\n",
       " [],\n",
       " [],\n",
       " [],\n",
       " [],\n",
       " [],\n",
       " [],\n",
       " [],\n",
       " [],\n",
       " [],\n",
       " [],\n",
       " [],\n",
       " [],\n",
       " [],\n",
       " [],\n",
       " [],\n",
       " [],\n",
       " [],\n",
       " [],\n",
       " [],\n",
       " [],\n",
       " [],\n",
       " [],\n",
       " [],\n",
       " [],\n",
       " [],\n",
       " [],\n",
       " [],\n",
       " [],\n",
       " [],\n",
       " [],\n",
       " [],\n",
       " [],\n",
       " [],\n",
       " [],\n",
       " [],\n",
       " [],\n",
       " [],\n",
       " [],\n",
       " [],\n",
       " [],\n",
       " [],\n",
       " [],\n",
       " [],\n",
       " [],\n",
       " [],\n",
       " [],\n",
       " [],\n",
       " [],\n",
       " [],\n",
       " [],\n",
       " [],\n",
       " [],\n",
       " [],\n",
       " [],\n",
       " [],\n",
       " [],\n",
       " [],\n",
       " [],\n",
       " [],\n",
       " [],\n",
       " [],\n",
       " [],\n",
       " [],\n",
       " [],\n",
       " [],\n",
       " [],\n",
       " [],\n",
       " [],\n",
       " [],\n",
       " [],\n",
       " [],\n",
       " [],\n",
       " []]"
      ]
     },
     "execution_count": 25,
     "metadata": {},
     "output_type": "execute_result"
    }
   ],
   "source": [
    "q = e.take(100)\n",
    "print q\n",
    "q.map(lambda e: e.zip(lambda x, y: x+y))"
   ]
  },
  {
   "cell_type": "code",
   "execution_count": 19,
   "metadata": {
    "scrolled": true
   },
   "outputs": [
    {
     "data": {
      "text/plain": [
       "[[90.22779776988638],\n",
       " [],\n",
       " [74.74654928040661],\n",
       " [89.75736375665977],\n",
       " [94.85521728415152],\n",
       " [92.11672152709482],\n",
       " [53.36427793158392],\n",
       " [],\n",
       " [89.84969494859244],\n",
       " [96.03694205062722],\n",
       " [86.80058490641416],\n",
       " [87.29730141854886],\n",
       " [],\n",
       " [],\n",
       " [94.1401344991302],\n",
       " [99.82829548826258],\n",
       " [89.35045512899516],\n",
       " [],\n",
       " [93.01657608591354],\n",
       " [87.97456406526169, 128.58445366515267, 62.48648393717207]]"
      ]
     },
     "execution_count": 19,
     "metadata": {},
     "output_type": "execute_result"
    }
   ],
   "source": [
    "events.map(lambda event: event.muons.pairs(mass)).take(20)"
   ]
  },
  {
   "cell_type": "code",
   "execution_count": 22,
   "metadata": {},
   "outputs": [
    {
     "name": "stdout",
     "output_type": "stream",
     "text": [
      "<code object mass at 0x7f8a9d521eb0, file \"<ipython-input-12-b16813dd5935>\", line 2>\n"
     ]
    }
   ],
   "source": [
    "mass.__code__"
   ]
  },
  {
   "cell_type": "code",
   "execution_count": 15,
   "metadata": {},
   "outputs": [
    {
     "data": {
      "text/plain": [
       "[<Record at index 33>, <Record at index 34>, <Record at index 35>]"
      ]
     },
     "execution_count": 15,
     "metadata": {},
     "output_type": "execute_result"
    }
   ],
   "source": [
    "events[19].muons"
   ]
  },
  {
   "cell_type": "code",
   "execution_count": 32,
   "metadata": {},
   "outputs": [
    {
     "data": {
      "text/plain": [
       "[[1, 1], [3, 3, 9], [7], [6]]"
      ]
     },
     "execution_count": 32,
     "metadata": {},
     "output_type": "execute_result"
    }
   ],
   "source": [
    "a = [[1], [3], [], [6]]\n",
    "b = [[1], [3, 9], [7], []]\n",
    "[a, b].zip(lambda x, y: [x, y].flatten)"
   ]
  },
  {
   "cell_type": "code",
   "execution_count": 24,
   "metadata": {},
   "outputs": [],
   "source": [
    "c = [[1, 1], [3, 3, 9], [7], [6]]"
   ]
  },
  {
   "cell_type": "code",
   "execution_count": null,
   "metadata": {},
   "outputs": [],
   "source": []
  }
 ],
 "metadata": {
  "kernelspec": {
   "display_name": "Python 2",
   "language": "python",
   "name": "python2"
  },
  "language_info": {
   "codemirror_mode": {
    "name": "ipython",
    "version": 2
   },
   "file_extension": ".py",
   "mimetype": "text/x-python",
   "name": "python",
   "nbconvert_exporter": "python",
   "pygments_lexer": "ipython2",
   "version": "2.7.13"
  }
 },
 "nbformat": 4,
 "nbformat_minor": 2
}
