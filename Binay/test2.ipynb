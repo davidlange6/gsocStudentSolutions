{
 "cells": [
  {
   "cell_type": "markdown",
   "metadata": {},
   "source": [
    "##  Saved dataset locally with name HZZ.root from \"http://scikit-hep.org/uproot/examples/HZZ.root\""
   ]
  },
  {
   "cell_type": "code",
   "execution_count": 1,
   "metadata": {},
   "outputs": [],
   "source": [
    "import numpy as np\n",
    "import uproot\n",
    "events=uproot.open(\"HZZ.root\")[\"events\"]"
   ]
  },
  {
   "cell_type": "code",
   "execution_count": 2,
   "metadata": {},
   "outputs": [],
   "source": [
    "columns=events.arrays([\"*Muon*\"])"
   ]
  },
  {
   "cell_type": "markdown",
   "metadata": {},
   "source": [
    "## Description of Columns"
   ]
  },
  {
   "cell_type": "code",
   "execution_count": 3,
   "metadata": {},
   "outputs": [
    {
     "name": "stdout",
     "output_type": "stream",
     "text": [
      "Shape of the available data\n",
      "NMuon (2421,)\n",
      "Muon_Charge (3825,)\n",
      "Muon_E (3825,)\n",
      "Muon_Iso (3825,)\n",
      "Muon_Pz (3825,)\n",
      "Muon_Py (3825,)\n",
      "Muon_Px (3825,)\n"
     ]
    }
   ],
   "source": [
    "print \"Shape of the available data\"\n",
    "for key,value in columns.items():\n",
    "    print key, np.array(columns[key]).shape"
   ]
  },
  {
   "cell_type": "code",
   "execution_count": 4,
   "metadata": {},
   "outputs": [],
   "source": [
    "Muon_Px = columns[\"Muon_Px\"].content\n",
    "Muon_Py = columns[\"Muon_Py\"].content\n",
    "Muon_Pz = columns[\"Muon_Pz\"].content\n",
    "Muon_E= columns[\"Muon_E\"].content\n",
    "NMuon= columns[\"NMuon\"]"
   ]
  },
  {
   "cell_type": "markdown",
   "metadata": {},
   "source": [
    "# 3 functions defined\n",
    "<b><p>1. calP_E( )</p>\n",
    "<p>2. numMuons( )</p>\n",
    "<p>3. getPossibleZMass( )</p></b>\n",
    "<hr>\n",
    "<p><b>1. calP_E( )</b>: func to be used in a vectorized call for getting Momemtum and Energy of all 3825 Muons in 2421 events."
   ]
  },
  {
   "cell_type": "code",
   "execution_count": 5,
   "metadata": {},
   "outputs": [],
   "source": [
    "from vectorized import vectorize\n",
    "def calP_E(index, Muon_Px, Muon_Py, Muon_Pz, Muon_E, totalp,totale):\n",
    "    px2 = Muon_Px[index]**2\n",
    "    py2 = Muon_Py[index]**2\n",
    "    pz2 = Muon_Pz[index]**2\n",
    "    e2 = Muon_E[index]**2\n",
    "    totalp[index] = np.sqrt(px2+py2+pz2)\n",
    "    totale[index] = np.sqrt(e2)"
   ]
  },
  {
   "cell_type": "code",
   "execution_count": 6,
   "metadata": {},
   "outputs": [
    {
     "name": "stdout",
     "output_type": "stream",
     "text": [
      "(shape)totalp : (3825,)\n",
      "(shape)toatle : (3825,)\n"
     ]
    }
   ],
   "source": [
    "totalp=np.empty(len(Muon_Px))  #totalp, momemtum of all 3825 muons\n",
    "totale=np.empty(len(Muon_Px))  #totale, energy of all 3825 muons\n",
    "print \"(shape)totalp :\",totalp.shape\n",
    "print \"(shape)toatle :\",totale.shape"
   ]
  },
  {
   "cell_type": "code",
   "execution_count": 7,
   "metadata": {},
   "outputs": [
    {
     "name": "stdout",
     "output_type": "stream",
     "text": [
      "leading step 0 (100.0% at leading): \n",
      "    px2 = (Muon_Px[index] ** 2)\n",
      "    ...advancing 1\n",
      "\n",
      "leading step 1 (100.0% at leading): \n",
      "    py2 = (Muon_Py[index] ** 2)\n",
      "    ...advancing 2\n",
      "\n",
      "leading step 2 (100.0% at leading): \n",
      "    pz2 = (Muon_Pz[index] ** 2)\n",
      "    ...advancing 3\n",
      "\n",
      "leading step 3 (100.0% at leading): \n",
      "    e2 = (Muon_E[index] ** 2)\n",
      "    ...advancing 4\n",
      "\n",
      "leading step 4 (100.0% at leading): \n",
      "    totalp[index] = np.sqrt(((px2 + py2) + pz2))\n",
      "    ...advancing 5\n",
      "\n",
      "leading step 5 (100.0% at leading): \n",
      "    totale[index] = np.sqrt(e2)\n",
      "    ...advancing 6\n",
      "\n"
     ]
    },
    {
     "data": {
      "text/plain": [
       "7"
      ]
     },
     "execution_count": 7,
     "metadata": {},
     "output_type": "execute_result"
    }
   ],
   "source": [
    "############### Vectorized call ################\n",
    "vectorize(calP_E,len(Muon_E),Muon_Px,Muon_Py,Muon_Pz,Muon_E,totalp,totale)"
   ]
  },
  {
   "cell_type": "markdown",
   "metadata": {},
   "source": [
    "<p><b>2. numMuons( ):</b> func returning the index of muons out of 3825 Muons, condition to that each event doesn't have atleast 2 Muons."
   ]
  },
  {
   "cell_type": "code",
   "execution_count": 8,
   "metadata": {},
   "outputs": [],
   "source": [
    "def numMuons(start,stop):\n",
    "    notpossible_Zboson=[]\n",
    "    for i in range(len(start)):\n",
    "        if ( stop[i]-start[i]<2):\n",
    "            notpossible_Zboson.append(start[i])\n",
    "    return notpossible_Zboson"
   ]
  },
  {
   "cell_type": "code",
   "execution_count": 9,
   "metadata": {},
   "outputs": [],
   "source": [
    "start=columns[\"Muon_E\"].starts\n",
    "stop=columns[\"Muon_E\"].stops\n",
    "notpossible_Zboson=numMuons(start,stop)"
   ]
  },
  {
   "cell_type": "code",
   "execution_count": 10,
   "metadata": {},
   "outputs": [
    {
     "name": "stdout",
     "output_type": "stream",
     "text": [
      "No. of Muons to be discarded:  1008\n",
      "Index are: [2, 13, 22, 23, 30, 42, 43, 46, 47, 54, 59, 62, 63, 64, 73, 74, 74, 76, 83, 86, 89, 90, 91, 98, 103, 108, 113, 118, 120, 121, 126, 127, 132, 139, 139, 140, 149, 150, 151, 154, 155, 156, 159, 166, 172, 173, 178, 179, 180, 199, 206, 211, 214, 217, 218, 221, 226, 235, 240, 241, 248, 249, 258, 263, 264, 273, 305, 308, 310, 313, 314, 319, 320, 327, 328, 331, 334, 334, 337, 338, 339, 344, 345, 354, 366, 369, 372, 373, 378, 379, 386, 392, 392, 393, 398, 409, 410, 415, 416, 419, 420, 441, 446, 447, 455, 456, 457, 458, 459, 465, 466, 469, 470, 473, 474, 478, 481, 482, 483, 486, 489, 490, 491, 498, 499, 500, 501, 502, 508, 509, 512, 515, 516, 517, 522, 523, 524, 531, 533, 536, 547, 548, 549, 556, 557, 562, 565, 566, 567, 578, 579, 584, 587, 592, 593, 593, 598, 601, 602, 617, 618, 619, 620, 627, 628, 629, 634, 641, 644, 647, 650, 652, 655, 656, 663, 666, 667, 668, 669, 670, 673, 674, 679, 688, 689, 692, 697, 702, 703, 722, 723, 724, 731, 732, 733, 738, 740, 747, 754, 757, 760, 761, 764, 769, 778, 785, 790, 790, 794, 797, 804, 809, 810, 810, 821, 839, 849, 850, 857, 860, 861, 870, 877, 880, 880, 889, 890, 891, 892, 895, 896, 897, 912, 923, 926, 933, 940, 941, 942, 947, 950, 957, 958, 965, 970, 981, 982, 997, 998, 1003, 1004, 1009, 1012, 1021, 1022, 1027, 1028, 1029, 1036, 1037, 1040, 1041, 1044, 1051, 1062, 1067, 1068, 1069, 1072, 1075, 1078, 1083, 1086, 1087, 1088, 1093, 1094, 1099, 1100, 1101, 1104, 1107, 1108, 1111, 1112, 1117, 1118, 1122, 1133, 1140, 1141, 1142, 1149, 1150, 1157, 1158, 1177, 1188, 1199, 1200, 1205, 1208, 1213, 1214, 1214, 1219, 1220, 1225, 1225, 1230, 1231, 1234, 1235, 1236, 1239, 1244, 1245, 1246, 1247, 1248, 1254, 1255, 1256, 1257, 1258, 1259, 1260, 1263, 1270, 1271, 1272, 1273, 1274, 1275, 1280, 1281, 1290, 1293, 1303, 1312, 1313, 1315, 1316, 1322, 1323, 1327, 1328, 1335, 1341, 1342, 1342, 1347, 1348, 1351, 1354, 1361, 1364, 1369, 1370, 1373, 1374, 1377, 1386, 1389, 1400, 1400, 1403, 1404, 1405, 1406, 1425, 1434, 1437, 1440, 1447, 1450, 1453, 1456, 1456, 1460, 1461, 1462, 1465, 1466, 1469, 1474, 1477, 1478, 1483, 1491, 1492, 1498, 1501, 1502, 1505, 1506, 1509, 1510, 1513, 1514, 1521, 1526, 1527, 1528, 1529, 1530, 1531, 1538, 1543, 1547, 1555, 1560, 1563, 1569, 1580, 1585, 1588, 1595, 1596, 1597, 1602, 1603, 1604, 1605, 1610, 1631, 1632, 1637, 1640, 1643, 1643, 1644, 1653, 1654, 1661, 1662, 1676, 1679, 1682, 1683, 1690, 1701, 1702, 1706, 1707, 1708, 1711, 1714, 1717, 1722, 1745, 1746, 1753, 1754, 1755, 1756, 1757, 1758, 1761, 1762, 1765, 1766, 1769, 1770, 1775, 1776, 1777, 1778, 1779, 1782, 1783, 1788, 1795, 1802, 1809, 1810, 1811, 1812, 1813, 1814, 1820, 1825, 1826, 1827, 1830, 1833, 1840, 1853, 1866, 1876, 1877, 1880, 1889, 1890, 1891, 1894, 1895, 1900, 1903, 1904, 1905, 1908, 1911, 1912, 1915, 1918, 1919, 1932, 1937, 1940, 1943, 1951, 1958, 1963, 1964, 1965, 1968, 1969, 1974, 1975, 1981, 1982, 1983, 1988, 1989, 1990, 1991, 2000, 2003, 2006, 2007, 2010, 2014, 2021, 2022, 2027, 2028, 2033, 2034, 2035, 2038, 2039, 2040, 2045, 2046, 2047, 2056, 2057, 2066, 2077, 2078, 2079, 2079, 2080, 2086, 2089, 2090, 2093, 2098, 2101, 2102, 2107, 2110, 2111, 2114, 2119, 2123, 2134, 2141, 2144, 2145, 2146, 2147, 2150, 2153, 2154, 2157, 2158, 2161, 2164, 2165, 2170, 2177, 2190, 2192, 2193, 2194, 2197, 2199, 2202, 2203, 2204, 2212, 2213, 2218, 2225, 2230, 2235, 2236, 2237, 2244, 2247, 2248, 2249, 2252, 2260, 2261, 2262, 2263, 2266, 2271, 2272, 2275, 2276, 2281, 2282, 2287, 2296, 2301, 2306, 2313, 2318, 2321, 2332, 2333, 2334, 2339, 2347, 2350, 2351, 2352, 2353, 2358, 2361, 2372, 2403, 2406, 2408, 2417, 2418, 2421, 2424, 2433, 2436, 2439, 2452, 2455, 2456, 2461, 2464, 2469, 2477, 2500, 2501, 2505, 2510, 2513, 2518, 2525, 2526, 2529, 2532, 2533, 2538, 2541, 2548, 2549, 2550, 2553, 2556, 2559, 2566, 2569, 2570, 2585, 2586, 2593, 2596, 2597, 2600, 2603, 2604, 2609, 2610, 2611, 2616, 2617, 2620, 2629, 2636, 2639, 2640, 2651, 2656, 2660, 2661, 2664, 2673, 2676, 2676, 2681, 2682, 2689, 2690, 2695, 2696, 2701, 2701, 2702, 2705, 2706, 2718, 2719, 2726, 2729, 2734, 2737, 2740, 2741, 2744, 2745, 2746, 2753, 2768, 2771, 2772, 2773, 2776, 2779, 2780, 2794, 2801, 2802, 2803, 2808, 2811, 2818, 2819, 2820, 2827, 2828, 2831, 2832, 2837, 2838, 2839, 2840, 2853, 2854, 2854, 2857, 2858, 2861, 2876, 2877, 2885, 2886, 2889, 2890, 2895, 2900, 2903, 2908, 2911, 2916, 2919, 2921, 2926, 2929, 2934, 2935, 2938, 2939, 2942, 2943, 2950, 2955, 2958, 2963, 2963, 2968, 2969, 2972, 2975, 2976, 2985, 2988, 2989, 2992, 2997, 2998, 3001, 3006, 3013, 3013, 3016, 3017, 3018, 3021, 3022, 3023, 3024, 3029, 3030, 3033, 3040, 3051, 3064, 3069, 3074, 3080, 3083, 3086, 3091, 3094, 3099, 3102, 3103, 3106, 3107, 3108, 3109, 3110, 3113, 3114, 3115, 3116, 3127, 3129, 3142, 3143, 3150, 3152, 3153, 3154, 3155, 3166, 3169, 3178, 3181, 3182, 3183, 3190, 3197, 3198, 3201, 3202, 3217, 3218, 3219, 3220, 3221, 3228, 3231, 3232, 3235, 3240, 3245, 3250, 3251, 3258, 3261, 3270, 3271, 3272, 3275, 3282, 3293, 3296, 3297, 3300, 3303, 3304, 3305, 3306, 3308, 3309, 3314, 3317, 3342, 3343, 3352, 3353, 3356, 3357, 3358, 3359, 3360, 3360, 3369, 3370, 3371, 3372, 3373, 3374, 3379, 3380, 3382, 3387, 3388, 3395, 3396, 3403, 3404, 3413, 3414, 3417, 3418, 3419, 3426, 3427, 3434, 3441, 3444, 3445, 3446, 3449, 3450, 3459, 3460, 3476, 3481, 3482, 3484, 3487, 3490, 3491, 3492, 3495, 3496, 3499, 3500, 3507, 3519, 3523, 3526, 3529, 3530, 3537, 3541, 3542, 3549, 3550, 3551, 3562, 3563, 3564, 3565, 3570, 3571, 3576, 3579, 3602, 3603, 3610, 3624, 3629, 3632, 3637, 3638, 3652, 3657, 3664, 3665, 3668, 3671, 3672, 3681, 3693, 3700, 3709, 3710, 3715, 3716, 3725, 3728, 3729, 3730, 3733, 3736, 3746, 3749, 3756, 3761, 3762, 3763, 3772, 3775, 3780, 3783, 3784, 3785, 3790, 3795, 3800, 3801, 3802, 3803, 3810, 3810, 3815, 3816, 3817, 3820, 3821, 3822, 3823, 3824]\n"
     ]
    }
   ],
   "source": [
    "#### index of muons from 3825 Muons which are unlikely to be Z Boson\n",
    "print \"No. of Muons to be discarded: \",len(notpossible_Zboson)\n",
    "print \"Index are:\",notpossible_Zboson"
   ]
  },
  {
   "cell_type": "markdown",
   "metadata": {},
   "source": [
    "<p><b>3. getPossibleZMass( ):</b> Vectorized func to be called so as to get mass of all possible Z Bosons.</p>\n",
    "<br>\n",
    "Here, \"totale\" contains the energy of all muons which had been in an event with 2 muons . Similiarly \"totalm\" contains all mass of muons which had been in event with 2 muons."
   ]
  },
  {
   "cell_type": "code",
   "execution_count": 11,
   "metadata": {},
   "outputs": [],
   "source": [
    "def getPossibleZMass(index,totale,totalp,totalm):\n",
    "    p2=totalp[index]**2\n",
    "    e2=totale[index]**2\n",
    "    totalm[index]=np.sqrt(np.absolute(e2-p2))*1000 #Assumption mass to be multiplied with 1000 to get unit in \"Gev\""
   ]
  },
  {
   "cell_type": "code",
   "execution_count": 12,
   "metadata": {},
   "outputs": [
    {
     "name": "stdout",
     "output_type": "stream",
     "text": [
      "After filtering shape of totalp and totale : (2839,) (2839,)\n"
     ]
    }
   ],
   "source": [
    "#### remove thoes muon \"momemtum\" and \"energy\"  which are unlikely to be a decay product of Z Boson\n",
    "totalp=np.delete(totalp,notpossible_Zboson)\n",
    "totale=np.delete(totale,notpossible_Zboson)\n",
    "print \"After filtering shape of totalp and totale :\",totalp.shape,totale.shape"
   ]
  },
  {
   "cell_type": "markdown",
   "metadata": {},
   "source": [
    "# Problem Set to calculate mass of muons of possible Z Bosons"
   ]
  },
  {
   "cell_type": "code",
   "execution_count": 13,
   "metadata": {},
   "outputs": [
    {
     "name": "stdout",
     "output_type": "stream",
     "text": [
      "leading step 0 (100.0% at leading): \n",
      "    p2 = (totalp[index] ** 2)\n",
      "    ...advancing 1\n",
      "\n",
      "leading step 1 (100.0% at leading): \n",
      "    e2 = (totale[index] ** 2)\n",
      "    ...advancing 2\n",
      "\n",
      "leading step 2 (100.0% at leading): \n",
      "    totalm[index] = (np.sqrt(np.absolute((e2 - p2))) * 1000)\n",
      "    ...advancing 3\n",
      "\n"
     ]
    },
    {
     "data": {
      "text/plain": [
       "4"
      ]
     },
     "execution_count": 13,
     "metadata": {},
     "output_type": "execute_result"
    }
   ],
   "source": [
    "totalm=np.empty(len(totale))\n",
    "################ Vectorized call ######################\n",
    "vectorize(getPossibleZMass,len(totale),totale,totalp,totalm)"
   ]
  },
  {
   "cell_type": "markdown",
   "metadata": {},
   "source": [
    "## Return mass of Z boson with around ±1 tolerance of 91Gev"
   ]
  },
  {
   "cell_type": "code",
   "execution_count": 14,
   "metadata": {},
   "outputs": [
    {
     "name": "stdout",
     "output_type": "stream",
     "text": [
      "[90.26714996 91.44529293 90.89767816 91.37391805 91.84836151 91.97384277\n",
      " 91.88857868 91.83295305 91.11483711 91.2099798  90.04649756 91.60284199\n",
      " 91.70939427]\n"
     ]
    }
   ],
   "source": [
    "notbest=[]\n",
    "for i in range(len(totalm)):\n",
    "    if not((totalm[i]-91 >= -1 )and (totalm[i]-91 <= 1)):\n",
    "        notbest.append(i)\n",
    "print np.delete(totalm,notbest)"
   ]
  },
  {
   "cell_type": "code",
   "execution_count": null,
   "metadata": {},
   "outputs": [],
   "source": []
  }
 ],
 "metadata": {
  "kernelspec": {
   "display_name": "Python 2",
   "language": "python",
   "name": "python2"
  },
  "language_info": {
   "codemirror_mode": {
    "name": "ipython",
    "version": 2
   },
   "file_extension": ".py",
   "mimetype": "text/x-python",
   "name": "python",
   "nbconvert_exporter": "python",
   "pygments_lexer": "ipython2",
   "version": "2.7.10"
  }
 },
 "nbformat": 4,
 "nbformat_minor": 2
}
